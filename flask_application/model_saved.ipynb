{
 "cells": [
  {
   "cell_type": "markdown",
   "metadata": {},
   "source": [
    "# On va considérer que tu dois faire un formulaire avec un titre et le texte"
   ]
  },
  {
   "cell_type": "code",
   "execution_count": 1,
   "metadata": {},
   "outputs": [
    {
     "name": "stdout",
     "output_type": "stream",
     "text": [
      "Requirement already satisfied: newspaper3k in c:\\users\\benjamin\\anaconda3\\lib\\site-packages (0.2.8)\n",
      "Requirement already satisfied: lxml>=3.6.0 in c:\\users\\benjamin\\anaconda3\\lib\\site-packages (from newspaper3k) (4.5.2)\n",
      "Requirement already satisfied: jieba3k>=0.35.1 in c:\\users\\benjamin\\anaconda3\\lib\\site-packages (from newspaper3k) (0.35.1)\n",
      "Requirement already satisfied: beautifulsoup4>=4.4.1 in c:\\users\\benjamin\\anaconda3\\lib\\site-packages (from newspaper3k) (4.9.1)\n",
      "Requirement already satisfied: nltk>=3.2.1 in c:\\users\\benjamin\\anaconda3\\lib\\site-packages (from newspaper3k) (3.5)\n",
      "Requirement already satisfied: tinysegmenter==0.3 in c:\\users\\benjamin\\anaconda3\\lib\\site-packages (from newspaper3k) (0.3)\n",
      "Requirement already satisfied: PyYAML>=3.11 in c:\\users\\benjamin\\anaconda3\\lib\\site-packages (from newspaper3k) (5.3.1)\n",
      "Requirement already satisfied: cssselect>=0.9.2 in c:\\users\\benjamin\\anaconda3\\lib\\site-packages (from newspaper3k) (1.1.0)\n",
      "Requirement already satisfied: requests>=2.10.0 in c:\\users\\benjamin\\anaconda3\\lib\\site-packages (from newspaper3k) (2.24.0)\n",
      "Requirement already satisfied: tldextract>=2.0.1 in c:\\users\\benjamin\\anaconda3\\lib\\site-packages (from newspaper3k) (3.1.0)\n",
      "Requirement already satisfied: python-dateutil>=2.5.3 in c:\\users\\benjamin\\anaconda3\\lib\\site-packages (from newspaper3k) (2.8.1)\n",
      "Requirement already satisfied: Pillow>=3.3.0 in c:\\users\\benjamin\\anaconda3\\lib\\site-packages (from newspaper3k) (7.2.0)\n",
      "Requirement already satisfied: feedfinder2>=0.0.4 in c:\\users\\benjamin\\anaconda3\\lib\\site-packages (from newspaper3k) (0.0.4)\n",
      "Requirement already satisfied: feedparser>=5.2.1 in c:\\users\\benjamin\\anaconda3\\lib\\site-packages (from newspaper3k) (6.0.2)\n",
      "Requirement already satisfied: soupsieve>1.2 in c:\\users\\benjamin\\anaconda3\\lib\\site-packages (from beautifulsoup4>=4.4.1->newspaper3k) (2.0.1)\n",
      "Requirement already satisfied: joblib in c:\\users\\benjamin\\anaconda3\\lib\\site-packages (from nltk>=3.2.1->newspaper3k) (0.16.0)\n",
      "Requirement already satisfied: regex in c:\\users\\benjamin\\anaconda3\\lib\\site-packages (from nltk>=3.2.1->newspaper3k) (2020.6.8)\n",
      "Requirement already satisfied: tqdm in c:\\users\\benjamin\\anaconda3\\lib\\site-packages (from nltk>=3.2.1->newspaper3k) (4.47.0)\n",
      "Note: you may need to restart the kernel to use updated packages.Requirement already satisfied: click in c:\\users\\benjamin\\anaconda3\\lib\\site-packages (from nltk>=3.2.1->newspaper3k) (7.1.2)\n",
      "Requirement already satisfied: idna<3,>=2.5 in c:\\users\\benjamin\\anaconda3\\lib\\site-packages (from requests>=2.10.0->newspaper3k) (2.10)\n",
      "Requirement already satisfied: urllib3!=1.25.0,!=1.25.1,<1.26,>=1.21.1 in c:\\users\\benjamin\\anaconda3\\lib\\site-packages (from requests>=2.10.0->newspaper3k) (1.25.9)\n",
      "\n",
      "Requirement already satisfied: chardet<4,>=3.0.2 in c:\\users\\benjamin\\anaconda3\\lib\\site-packages (from requests>=2.10.0->newspaper3k) (3.0.4)\n",
      "Requirement already satisfied: certifi>=2017.4.17 in c:\\users\\benjamin\\anaconda3\\lib\\site-packages (from requests>=2.10.0->newspaper3k) (2020.6.20)\n",
      "Requirement already satisfied: requests-file>=1.4 in c:\\users\\benjamin\\anaconda3\\lib\\site-packages (from tldextract>=2.0.1->newspaper3k) (1.5.1)\n",
      "Requirement already satisfied: filelock>=3.0.8 in c:\\users\\benjamin\\anaconda3\\lib\\site-packages (from tldextract>=2.0.1->newspaper3k) (3.0.12)\n",
      "Requirement already satisfied: six>=1.5 in c:\\users\\benjamin\\anaconda3\\lib\\site-packages (from python-dateutil>=2.5.3->newspaper3k) (1.15.0)\n",
      "Requirement already satisfied: sgmllib3k in c:\\users\\benjamin\\anaconda3\\lib\\site-packages (from feedparser>=5.2.1->newspaper3k) (1.0.0)\n"
     ]
    }
   ],
   "source": [
    "pip install newspaper3k"
   ]
  },
  {
   "cell_type": "code",
   "execution_count": 2,
   "metadata": {},
   "outputs": [
    {
     "name": "stdout",
     "output_type": "stream",
     "text": [
      "Requirement already satisfied: textblob in c:\\users\\benjamin\\anaconda3\\lib\\site-packages (0.15.3)\n",
      "Requirement already satisfied: nltk>=3.1 in c:\\users\\benjamin\\anaconda3\\lib\\site-packages (from textblob) (3.5)\n",
      "Requirement already satisfied: joblib in c:\\users\\benjamin\\anaconda3\\lib\\site-packages (from nltk>=3.1->textblob) (0.16.0)\n",
      "Requirement already satisfied: tqdm in c:\\users\\benjamin\\anaconda3\\lib\\site-packages (from nltk>=3.1->textblob) (4.47.0)\n",
      "Requirement already satisfied: click in c:\\users\\benjamin\\anaconda3\\lib\\site-packages (from nltk>=3.1->textblob) (7.1.2)\n",
      "Requirement already satisfied: regex in c:\\users\\benjamin\\anaconda3\\lib\\site-packages (from nltk>=3.1->textblob) (2020.6.8)\n",
      "Note: you may need to restart the kernel to use updated packages.\n"
     ]
    }
   ],
   "source": [
    "pip install textblob"
   ]
  },
  {
   "cell_type": "code",
   "execution_count": 3,
   "metadata": {},
   "outputs": [
    {
     "name": "stdout",
     "output_type": "stream",
     "text": [
      "Collecting BeautifulSoupNote: you may need to restart the kernel to use updated packages.\n"
     ]
    },
    {
     "name": "stderr",
     "output_type": "stream",
     "text": [
      "    ERROR: Command errored out with exit status 1:\n",
      "     command: 'C:\\Users\\Benjamin\\anaconda3\\python.exe' -c 'import sys, setuptools, tokenize; sys.argv[0] = '\"'\"'C:\\\\Users\\\\Benjamin\\\\AppData\\\\Local\\\\Temp\\\\pip-install-ueb7w0gw\\\\BeautifulSoup\\\\setup.py'\"'\"'; __file__='\"'\"'C:\\\\Users\\\\Benjamin\\\\AppData\\\\Local\\\\Temp\\\\pip-install-ueb7w0gw\\\\BeautifulSoup\\\\setup.py'\"'\"';f=getattr(tokenize, '\"'\"'open'\"'\"', open)(__file__);code=f.read().replace('\"'\"'\\r\\n'\"'\"', '\"'\"'\\n'\"'\"');f.close();exec(compile(code, __file__, '\"'\"'exec'\"'\"'))' egg_info --egg-base 'C:\\Users\\Benjamin\\AppData\\Local\\Temp\\pip-pip-egg-info-1bwcvgr3'\n",
      "         cwd: C:\\Users\\Benjamin\\AppData\\Local\\Temp\\pip-install-ueb7w0gw\\BeautifulSoup\\\n",
      "    Complete output (6 lines):\n",
      "    Traceback (most recent call last):\n",
      "      File \"<string>\", line 1, in <module>\n",
      "      File \"C:\\Users\\Benjamin\\AppData\\Local\\Temp\\pip-install-ueb7w0gw\\BeautifulSoup\\setup.py\", line 3\n",
      "        \"You're trying to run a very old release of Beautiful Soup under Python 3. This will not work.\"<>\"Please use Beautiful Soup 4, available through the pip package 'beautifulsoup4'.\"\n",
      "                                                                                                        ^\n",
      "    SyntaxError: invalid syntax\n",
      "    ----------------------------------------\n",
      "ERROR: Command errored out with exit status 1: python setup.py egg_info Check the logs for full command output.\n"
     ]
    },
    {
     "name": "stdout",
     "output_type": "stream",
     "text": [
      "\n",
      "  Using cached BeautifulSoup-3.2.2.tar.gz (32 kB)\n"
     ]
    }
   ],
   "source": [
    "pip install BeautifulSoup"
   ]
  },
  {
   "cell_type": "code",
   "execution_count": 11,
   "metadata": {},
   "outputs": [],
   "source": [
    "import numpy as np\n",
    "import pandas as pd\n",
    "import matplotlib.pyplot as plt\n",
    "from newspaper import Article\n",
    "from bs4 import BeautifulSoup\n",
    "from sklearn.metrics import accuracy_score"
   ]
  },
  {
   "cell_type": "code",
   "execution_count": 12,
   "metadata": {},
   "outputs": [
    {
     "name": "stderr",
     "output_type": "stream",
     "text": [
      "[nltk_data] Downloading package stopwords to\n",
      "[nltk_data]     C:\\Users\\Benjamin\\AppData\\Roaming\\nltk_data...\n",
      "[nltk_data]   Package stopwords is already up-to-date!\n"
     ]
    }
   ],
   "source": [
    "from nltk.tokenize import word_tokenize \n",
    "from nltk.corpus import stopwords\n",
    "import nltk\n",
    "nltk.download('stopwords')\n",
    "stopwords=set(stopwords.words('english'))\n",
    "from textblob import TextBlob #for subjectivity and polarity purpose"
   ]
  },
  {
   "cell_type": "code",
   "execution_count": 13,
   "metadata": {},
   "outputs": [],
   "source": [
    "def tokenizetext(text):\n",
    "    return word_tokenize(text)\n",
    "def words(text):\n",
    "    l = [word for word in word_tokenize(text) if word.isalpha()]\n",
    "    return l\n",
    "def unique_words(text):\n",
    "    return list(set(words(text)))\n",
    "def rate_uni_words(text):\n",
    "    uni_words = len(unique_words(text))/len(words(text))\n",
    "    return uni_words\n",
    "def avglengthtoken(text):\n",
    "    w = words(text)\n",
    "    sum = 0\n",
    "    for item in w:\n",
    "        sum+=len(item)\n",
    "    avglen = sum/len(w)\n",
    "    return avglen\n",
    "def n_non_stop_unique_tokens(text):\n",
    "    uw = unique_words(text)\n",
    "    n_uw = [item for item in uw if item not in stopwords]\n",
    "    w = words(text)\n",
    "    n_w = [item for item in w if item not in stopwords]\n",
    "    rate_nsut = len(n_uw)/len(n_w)\n",
    "    return rate_nsut\n",
    "def numlinks(article):\n",
    "    return len(BeautifulSoup(article).findAll('link'))\n",
    "def get_subjectivity(a_text):\n",
    "    return a_text.sentiment.subjectivity\n",
    "def get_polarity(a_text):\n",
    "    return a_text.sentiment.polarity\n",
    "def word_polarity(words):\n",
    "    pos_words = []\n",
    "    ppos_words = [] # polarity of pos words\n",
    "    neg_words = []\n",
    "    pneg_words = [] # polarity of negative words\n",
    "    neu_words = []\n",
    "    pneu_words = [] # polarity of neutral words\n",
    "    for w in words:\n",
    "        an_word = TextBlob(w)\n",
    "        val = an_word.sentiment.polarity\n",
    "        if val > 0:\n",
    "            pos_words.append(w)\n",
    "            ppos_words.append(val)\n",
    "        if val < 0:\n",
    "            neg_words.append(w)\n",
    "            pneg_words.append(val)\n",
    "        if val == 0 :\n",
    "            neu_words.append(w)\n",
    "            pneu_words.append(val)\n",
    "    return pos_words,ppos_words,neg_words,pneg_words,neu_words,pneu_words\n",
    "def avg_pol_pw(text):    \n",
    "    totalwords = words(text)\n",
    "    res = word_polarity(totalwords)\n",
    "    return np.sum(res[1])/len(res[0])\n",
    "def avg_pol_nw(text):    \n",
    "    totalwords = words(text)\n",
    "    res = word_polarity(totalwords)\n",
    "    return np.sum(res[3])/len(res[2])"
   ]
  },
  {
   "cell_type": "code",
   "execution_count": 14,
   "metadata": {},
   "outputs": [
    {
     "name": "stderr",
     "output_type": "stream",
     "text": [
      "[nltk_data] Downloading package punkt to\n",
      "[nltk_data]     C:\\Users\\Benjamin\\AppData\\Roaming\\nltk_data...\n",
      "[nltk_data]   Package punkt is already up-to-date!\n"
     ]
    }
   ],
   "source": [
    "import nltk\n",
    "nltk.download('punkt')\n",
    "def masterDF(titre, texte, categ):\n",
    "    finrows = []\n",
    "    row = {}\n",
    "    row['n_tokens_title'] = len(words(titre))\n",
    "    row['n_tokens_content'] = len(words(texte))\n",
    "    row['n_unique_tokens'] = len(unique_words(texte))\n",
    "    row['average_token_length'] = avglengthtoken(texte)\n",
    "    row['n_non_stop_unique_tokens'] = n_non_stop_unique_tokens(texte)\n",
    "    row['num_hrefs'] = numlinks(texte)\n",
    "    \n",
    "    analysed_text = TextBlob(texte)\n",
    "    row['global_subjectivity'] = get_subjectivity(analysed_text)\n",
    "    row['avg_positive_polarity'] = avg_pol_pw(texte)\n",
    "    row['global_sentiment_polarity'] = get_polarity(analysed_text)\n",
    "    finrows.append(row)\n",
    "    \n",
    "    liste = [\"data_channel_is_world\", \"data_channel_is_tech\", \"data_channel_is_socmed\", \"data_channel_is_bus\", \"data_channel_is_entertainment\", \"data_channel_is_lifestyle\"]\n",
    "    row[\"data_channel_is_world\"] =0\n",
    "    row[\"data_channel_is_tech\"]=0\n",
    "    row[\"data_channel_is_socmed\"]=0\n",
    "    row[\"data_channel_is_bus\"]=0\n",
    "    row[\"data_channel_is_entertainment\"]=0\n",
    "    row[\"data_channel_is_lifestyle\"]=0\n",
    "    row[liste[categ]] = 1\n",
    "    \n",
    "    \n",
    "    return finrows"
   ]
  },
  {
   "cell_type": "code",
   "execution_count": 15,
   "metadata": {},
   "outputs": [],
   "source": [
    "import pickle \n",
    "xgb2 = pickle.load(open(\"xgbmodel2\", 'rb'))"
   ]
  },
  {
   "cell_type": "markdown",
   "metadata": {},
   "source": [
    "# En dessous t'as juste à mettre ton titre et ton texte dans la fonction"
   ]
  },
  {
   "cell_type": "code",
   "execution_count": 16,
   "metadata": {},
   "outputs": [],
   "source": [
    "def Prediction(titre, texte, categ):\n",
    "    finrows = masterDF(titre, texte, categ)\n",
    "    masterdf = pd.DataFrame(finrows, columns = ['n_tokens_title','n_tokens_content','n_unique_tokens','average_token_length','n_non_stop_unique_tokens','num_hrefs','global_subjectivity',\n",
    "                                   'avg_positive_polarity','global_sentiment_polarity',\n",
    "    'data_channel_is_world',\"data_channel_is_tech\", \"data_channel_is_socmed\",\"data_channel_is_bus\",\"data_channel_is_entertainment\",\"data_channel_is_lifestyle\"])\n",
    "    #0 world / 1 tech / 2 social / 3 business / 4 entertainement / 5 lifestyle\n",
    "    pred = xgb2.predict(masterdf)\n",
    "    pop = 'Popular' if pred == 1 else 'Unpopular'\n",
    "    print(\"Predicted popularity :\",pop)"
   ]
  },
  {
   "cell_type": "markdown",
   "metadata": {},
   "source": [
    "# Exemple"
   ]
  },
  {
   "cell_type": "code",
   "execution_count": 18,
   "metadata": {},
   "outputs": [
    {
     "name": "stdout",
     "output_type": "stream",
     "text": [
      "Predicted popularity : Popular\n"
     ]
    }
   ],
   "source": [
    "Prediction(\"Emmanuel Macron: French president tests positive for Covid\",\n",
    "           \"France's President Emmanuel Macron has tested positive for Covid-19 after developing symptoms.\\\n",
    "The 42 year old will now self-isolate for seven days, the Elysée Palace said in a statement.\\\n",
    "Mr Macron is still in charge of running the country and will work remotely, said an official.\\\n",
    "EU chief Charles Michel and Spanish Prime Minister Pedro Sánchez are both self-isolating after coming into contact with Mr Macron on Monday.\\\n",
    "France this week imposed an overnight curfew to help deal with soaring cases there.\\\n",
    "There have been two million confirmed cases in the country since the epidemic began, with more than 59,400 deaths, according to data from Johns Hopkins University.\\\n",
    "    How are France and other European countries tackling the pandemic?\\\n",
    "    French culture takes centre stage in Covid protest\\\n",
    "    The meteoric rise of France's youngest president\\\n",
    "Who has Macron had contact with?\\\n",
    "The President of the Republic has been diagnosed positive for Covid-19 today, the Elysée said on Thursday morning. The diagnosis was made following a test performed at the onset of the first symptoms, the statement added.\\\n",
    "It is not yet known how Mr Macron caught the virus but his office said it was identifying any close contacts he has made in recent days.\\\n",
    "Prime Minister Jean Castex, 55, and Parliament Speaker Richard Ferrand, 58, are both self-isolating, their offices confirmed.\\\n",
    "Mr Castex, who is not showing any symptoms, was due to introduce the government's Covid vaccination policy in the Senate on Thursday - now Health Minister Olivier Véran is doing it instead. \",\n",
    "          0)\n",
    "#0 world / 1 tech / 2 social / 3 business / 4 entertainement / 5 lifestyle\n"
   ]
  },
  {
   "cell_type": "code",
   "execution_count": null,
   "metadata": {},
   "outputs": [],
   "source": []
  },
  {
   "cell_type": "code",
   "execution_count": null,
   "metadata": {},
   "outputs": [],
   "source": []
  },
  {
   "cell_type": "code",
   "execution_count": null,
   "metadata": {},
   "outputs": [],
   "source": []
  }
 ],
 "metadata": {
  "kernelspec": {
   "display_name": "Python 3",
   "language": "python",
   "name": "python3"
  },
  "language_info": {
   "codemirror_mode": {
    "name": "ipython",
    "version": 3
   },
   "file_extension": ".py",
   "mimetype": "text/x-python",
   "name": "python",
   "nbconvert_exporter": "python",
   "pygments_lexer": "ipython3",
   "version": "3.8.3"
  }
 },
 "nbformat": 4,
 "nbformat_minor": 4
}
